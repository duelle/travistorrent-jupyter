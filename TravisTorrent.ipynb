{
 "cells": [
  {
   "cell_type": "markdown",
   "metadata": {},
   "source": [
    "# Travistorrent Analysis\n",
    "\n",
    "* Data source: https://travistorrent.testroots.org/dumps/travistorrent_8_2_2017.csv.gz\n",
    "* Data format: https://travistorrent.testroots.org/page_dataformat/\n",
    "\n",
    "\n",
    "Beller M, Gousios G, Zaidman A. (2017) TravisTorrent: Synthesizing Travis CI and GitHub for Full-Stack Research on Continuous Integration\n",
    "\n",
    "@inproceedings{msr17challenge,\n",
    " title={TravisTorrent: Synthesizing Travis CI and GitHub for Full-Stack Research on Continuous Integration},\n",
    " author={Beller, Moritz and Gousios, Georgios and Zaidman, Andy},\n",
    " booktitle={Proceedings of the 14th working conference on mining software repositories},\n",
    " preprint={http://www.st.ewi.tudelft.nl/~mbeller/publications/2017_beller_gousios_zaidman_travistorrent_synthesizing_travis_ci_and_github_for_full-stack_research_on_continuous_integration.pdf},\n",
    " year={2017}\n",
    "}"
   ]
  },
  {
   "cell_type": "code",
   "execution_count": 80,
   "metadata": {},
   "outputs": [
    {
     "name": "stderr",
     "output_type": "stream",
     "text": [
      "Installing package into ‘/usr/local/spark-2.3.1-bin-hadoop2.7/R/lib’\n",
      "(as ‘lib’ is unspecified)\n",
      "Installing package into ‘/usr/local/spark-2.3.1-bin-hadoop2.7/R/lib’\n",
      "(as ‘lib’ is unspecified)\n",
      "also installing the dependencies ‘R.oo’, ‘R.methodsS3’\n",
      "\n"
     ]
    }
   ],
   "source": [
    "install.packages('data.table')\n",
    "\n",
    "## needed for gzip\n",
    "install.packages('R.utils') "
   ]
  },
  {
   "cell_type": "code",
   "execution_count": 81,
   "metadata": {
    "scrolled": true
   },
   "outputs": [
    {
     "name": "stderr",
     "output_type": "stream",
     "text": [
      "Loading required package: R.utils\n",
      "Loading required package: R.oo\n",
      "Loading required package: R.methodsS3\n",
      "R.methodsS3 v1.7.1 (2016-02-15) successfully loaded. See ?R.methodsS3 for help.\n",
      "R.oo v1.22.0 (2018-04-21) successfully loaded. See ?R.oo for help.\n",
      "\n",
      "Attaching package: ‘R.oo’\n",
      "\n",
      "The following objects are masked from ‘package:methods’:\n",
      "\n",
      "    getClasses, getMethods\n",
      "\n",
      "The following objects are masked from ‘package:base’:\n",
      "\n",
      "    attach, detach, gc, load, save\n",
      "\n",
      "R.utils v2.6.0 (2017-11-04) successfully loaded. See ?R.utils for help.\n",
      "\n",
      "Attaching package: ‘R.utils’\n",
      "\n",
      "The following object is masked from ‘package:utils’:\n",
      "\n",
      "    timestamp\n",
      "\n",
      "The following objects are masked from ‘package:base’:\n",
      "\n",
      "    cat, commandArgs, getOption, inherits, isOpen, parse, warnings\n",
      "\n"
     ]
    },
    {
     "ename": "ERROR",
     "evalue": "Error in decompressFile.default(filename = filename, ..., ext = ext, FUN = FUN): File already exists: travistorrent_8_2_2017.csv\n",
     "output_type": "error",
     "traceback": [
      "Error in decompressFile.default(filename = filename, ..., ext = ext, FUN = FUN): File already exists: travistorrent_8_2_2017.csv\nTraceback:\n",
      "1. gunzip(\"travistorrent_8_2_2017.csv.gz\", remove = FALSE)",
      "2. gunzip.default(\"travistorrent_8_2_2017.csv.gz\", remove = FALSE)",
      "3. decompressFile(filename = filename, ..., ext = ext, FUN = FUN)",
      "4. decompressFile.default(filename = filename, ..., ext = ext, FUN = FUN)",
      "5. stop(sprintf(\"File already exists: %s\", destname))"
     ]
    }
   ],
   "source": [
    "require('data.table')\n",
    "\n",
    "## needed for direct file download\n",
    " require('R.utils')\n",
    " download.file(\"https://travistorrent.testroots.org/dumps/travistorrent_8_2_2017.csv.gz\", \"travistorrent_8_2_2017.csv.gz\")\n",
    " gunzip(\"travistorrent_8_2_2017.csv.gz\", remove=FALSE)\n",
    "\n",
    "tt <- fread(\"travistorrent_8_2_2017.csv\")"
   ]
  },
  {
   "cell_type": "markdown",
   "metadata": {},
   "source": [
    "We select the interesting columns and remove duplicate build_ids as they are duplicates for sub_jobs. In addition, we remove all entries that do not have a duration.\n"
   ]
  },
  {
   "cell_type": "code",
   "execution_count": 82,
   "metadata": {
    "scrolled": true
   },
   "outputs": [],
   "source": [
    "tt <- tt[tt$tr_duration != \"NA\"]\n",
    "tt <- tt[, c(\"tr_build_id\",\"git_branch\",\"gh_project_name\",\"gh_build_started_at\",\"tr_duration\")]\n",
    "tt <- tt[!duplicated(tt$tr_build_id),]"
   ]
  },
  {
   "cell_type": "code",
   "execution_count": 83,
   "metadata": {
    "scrolled": true
   },
   "outputs": [],
   "source": [
    "# Assign start and duration to variables\n",
    "tt_start <- tt$gh_build_started_at\n",
    "tt_duration<- tt$tr_duration\n",
    "\n",
    "# Extract epoch formats for start and end by adding duration to start\n",
    "tt_start_epoch <- as.POSIXct(tt_start ,format=\"%Y-%m-%d %H:%M\")\n",
    "tt_end_epoch <- tt_start_epoch + tt_duration\n",
    "#tt_end_epoch <- as.POSIXct(as.POSIXlt(tt_end_epoch), format=\"%Y-%m-%d %H:%M\")\n",
    "tt_end_epoch <- strptime(tt_end_epoch, \"%Y-%m-%d %H:%M\")\n",
    "\n",
    "# Find min and max time\n",
    "time_min <- min(tt_start_epoch)\n",
    "time_max <- max(tt_end_epoch)"
   ]
  },
  {
   "cell_type": "markdown",
   "metadata": {},
   "source": [
    "Luckily found a good example on how to aggregate: https://stackoverflow.com/a/20426276/1779346"
   ]
  },
  {
   "cell_type": "code",
   "execution_count": 84,
   "metadata": {},
   "outputs": [],
   "source": [
    "options(digits.secs=0)"
   ]
  },
  {
   "cell_type": "code",
   "execution_count": 85,
   "metadata": {},
   "outputs": [],
   "source": [
    "queries.start <- data.frame(Time=tt_start_epoch, Value=1)\n",
    "queries.end <- data.frame(Time=tt_end_epoch, Value=-1)\n",
    "\n",
    "queries.both <- rbind(queries.start, queries.end)\n",
    "queries.both <- queries.both[with(queries.both, order(Time)), ]\n",
    "\n",
    "queries.sum <- data.frame(Time=queries.both$Time, Queries=cumsum(queries.both$Value))"
   ]
  },
  {
   "cell_type": "code",
   "execution_count": 86,
   "metadata": {
    "scrolled": false
   },
   "outputs": [
    {
     "data": {
      "image/png": "[encoded data removed]",
      "text/plain": [
       "plot without title"
      ]
     },
     "metadata": {},
     "output_type": "display_data"
    }
   ],
   "source": [
    "plot(queries.sum, type=\"l\", ylab=\"Concurrent builds\")"
   ]
  },
  {
   "cell_type": "code",
   "execution_count": 87,
   "metadata": {},
   "outputs": [],
   "source": [
    "saveRDS(queries.sum, file=\"dataset.Rda\")"
   ]
  }
 ],
 "metadata": {
  "kernelspec": {
   "display_name": "R",
   "language": "R",
   "name": "ir"
  },
  "language_info": {
   "codemirror_mode": "r",
   "file_extension": ".r",
   "mimetype": "text/x-r-source",
   "name": "R",
   "pygments_lexer": "r",
   "version": "3.4.1"
  }
 },
 "nbformat": 4,
 "nbformat_minor": 2
}
